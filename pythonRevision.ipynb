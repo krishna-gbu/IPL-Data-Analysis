{
  "nbformat": 4,
  "nbformat_minor": 0,
  "metadata": {
    "colab": {
      "name": "pythonRevision.ipynb",
      "provenance": [],
      "collapsed_sections": [],
      "mount_file_id": "1miHfit8C7oGthhOPun1DV5APXWxNcGu3",
      "authorship_tag": "ABX9TyN3zAEWhcHGHdkLgn+UUsRg",
      "include_colab_link": true
    },
    "kernelspec": {
      "name": "python3",
      "display_name": "Python 3"
    },
    "language_info": {
      "name": "python"
    }
  },
  "cells": [
    {
      "cell_type": "markdown",
      "metadata": {
        "id": "view-in-github",
        "colab_type": "text"
      },
      "source": [
        "<a href=\"https://colab.research.google.com/github/krishna-gbu/IPL-Data-Analysis/blob/master/pythonRevision.ipynb\" target=\"_parent\"><img src=\"https://colab.research.google.com/assets/colab-badge.svg\" alt=\"Open In Colab\"/></a>"
      ]
    },
    {
      "cell_type": "code",
      "execution_count": 2,
      "metadata": {
        "id": "NQiO6tt4bYXC"
      },
      "outputs": [],
      "source": [
        "def mai():\n",
        "  a=10\n",
        "  b=20\n",
        "  c=30\n",
        "  print(a,b,c)  "
      ]
    },
    {
      "cell_type": "code",
      "source": [
        "if __name__==\"__mai__\":\n",
        "   mai()"
      ],
      "metadata": {
        "id": "KTa4d2UFbwMN"
      },
      "execution_count": 3,
      "outputs": []
    },
    {
      "cell_type": "code",
      "source": [
        "print(__name__)"
      ],
      "metadata": {
        "colab": {
          "base_uri": "https://localhost:8080/"
        },
        "id": "GTGRgyndb7Vs",
        "outputId": "1dbb4914-1dc0-43df-8432-017a78474367"
      },
      "execution_count": 4,
      "outputs": [
        {
          "output_type": "stream",
          "name": "stdout",
          "text": [
            "__main__\n"
          ]
        }
      ]
    },
    {
      "cell_type": "code",
      "source": [
        "def fun(a=0,b=0,c=0):\n",
        "  print(a,b,c)"
      ],
      "metadata": {
        "id": "P-Zjpty838go"
      },
      "execution_count": 5,
      "outputs": []
    },
    {
      "cell_type": "code",
      "source": [
        "fun(60)"
      ],
      "metadata": {
        "colab": {
          "base_uri": "https://localhost:8080/"
        },
        "id": "jGG9wrW64Ic8",
        "outputId": "517799b2-f455-4c42-9f6e-2aefbda21623"
      },
      "execution_count": 6,
      "outputs": [
        {
          "output_type": "stream",
          "name": "stdout",
          "text": [
            "60 0 0\n"
          ]
        }
      ]
    },
    {
      "cell_type": "code",
      "source": [
        "def sum(*a):\n",
        "  print(a)\n",
        "  print(type(a))"
      ],
      "metadata": {
        "id": "sGkFbvvGFaAf"
      },
      "execution_count": 7,
      "outputs": []
    },
    {
      "cell_type": "code",
      "source": [
        "sum(1,2)"
      ],
      "metadata": {
        "colab": {
          "base_uri": "https://localhost:8080/"
        },
        "id": "vcfIFMFHFg_f",
        "outputId": "69d11d89-4e65-4706-abd2-f3192302ba33"
      },
      "execution_count": 8,
      "outputs": [
        {
          "output_type": "stream",
          "name": "stdout",
          "text": [
            "(1, 2)\n",
            "<class 'tuple'>\n"
          ]
        }
      ]
    },
    {
      "cell_type": "code",
      "source": [
        "sum()"
      ],
      "metadata": {
        "colab": {
          "base_uri": "https://localhost:8080/"
        },
        "id": "OXDLE1cwF9L2",
        "outputId": "57db4ed2-504e-4329-c7e6-942dcffaa050"
      },
      "execution_count": 9,
      "outputs": [
        {
          "output_type": "stream",
          "name": "stdout",
          "text": [
            "()\n",
            "<class 'tuple'>\n"
          ]
        }
      ]
    },
    {
      "cell_type": "code",
      "source": [
        "def fn(n):\n",
        "  if n!=0:\n",
        "    fn(n-1)\n",
        "  print(n)  "
      ],
      "metadata": {
        "id": "4teKUe0cZPGu"
      },
      "execution_count": 10,
      "outputs": []
    },
    {
      "cell_type": "code",
      "source": [
        "fn(3)"
      ],
      "metadata": {
        "colab": {
          "base_uri": "https://localhost:8080/"
        },
        "id": "qZTcZ1-TZYbn",
        "outputId": "6bd68e81-0089-49d9-89b4-029cbb0729d1"
      },
      "execution_count": 11,
      "outputs": [
        {
          "output_type": "stream",
          "name": "stdout",
          "text": [
            "0\n",
            "1\n",
            "2\n",
            "3\n"
          ]
        }
      ]
    },
    {
      "cell_type": "code",
      "source": [
        "def rec():\n",
        "  i=0\n",
        "  i=i+1\n",
        "  print('i',i)\n",
        "  rec()\n"
      ],
      "metadata": {
        "id": "K2qTWziYgTK6"
      },
      "execution_count": 12,
      "outputs": []
    },
    {
      "cell_type": "code",
      "source": [
        "list1 = [1,2,3,4]"
      ],
      "metadata": {
        "id": "kkb3XuKU0roX"
      },
      "execution_count": 13,
      "outputs": []
    },
    {
      "cell_type": "code",
      "source": [
        "# filter\n",
        "a = lambda e : e%2 == 0\n",
        "print(a)\n",
        "list2=filter(a,list1)\n",
        "print([a for a in list2])"
      ],
      "metadata": {
        "colab": {
          "base_uri": "https://localhost:8080/"
        },
        "id": "iZSMYzN10mBA",
        "outputId": "afd4e4c9-0cd3-46fe-fd84-b76fe52d2d9f"
      },
      "execution_count": 14,
      "outputs": [
        {
          "output_type": "stream",
          "name": "stdout",
          "text": [
            "<function <lambda> at 0x7f035528bef0>\n",
            "[2, 4]\n"
          ]
        }
      ]
    },
    {
      "cell_type": "code",
      "source": [
        "# filter\n",
        "b = lambda e : e%2 != 0\n",
        "print(b)\n",
        "list3=filter(b,list1)\n",
        "print([a for a in list3])"
      ],
      "metadata": {
        "colab": {
          "base_uri": "https://localhost:8080/"
        },
        "id": "q3dtJ7xO1nBy",
        "outputId": "8e3d8e65-c65c-47bd-deb7-2ab5013fdc70"
      },
      "execution_count": 15,
      "outputs": [
        {
          "output_type": "stream",
          "name": "stdout",
          "text": [
            "<function <lambda> at 0x7f035525b710>\n",
            "[1, 3]\n"
          ]
        }
      ]
    },
    {
      "cell_type": "code",
      "source": [
        "# map\n",
        "sqr=lambda s : s*s\n",
        "sqrlist= map(sqr,list1)\n",
        "print(list(sqrlist))"
      ],
      "metadata": {
        "colab": {
          "base_uri": "https://localhost:8080/"
        },
        "id": "ZlhsQY6V5xqa",
        "outputId": "489256d4-005b-448c-a911-a2c54919b532"
      },
      "execution_count": 16,
      "outputs": [
        {
          "output_type": "stream",
          "name": "stdout",
          "text": [
            "[1, 4, 9, 16]\n"
          ]
        }
      ]
    },
    {
      "cell_type": "code",
      "source": [
        "# reduce\n",
        "# import functools\n",
        "from  functools import reduce\n",
        "add=lambda a,b : a+b\n",
        "# re = functools.reduce(add,list1)\n",
        "re = reduce(add,list1)\n",
        "re"
      ],
      "metadata": {
        "colab": {
          "base_uri": "https://localhost:8080/"
        },
        "id": "y12f6Ih97v4c",
        "outputId": "21cbcda6-1271-4add-d42c-9a10fa589039"
      },
      "execution_count": 17,
      "outputs": [
        {
          "output_type": "execute_result",
          "data": {
            "text/plain": [
              "10"
            ]
          },
          "metadata": {},
          "execution_count": 17
        }
      ]
    },
    {
      "cell_type": "code",
      "source": [
        "square = lambda x : x*x if x > 0 else x\n",
        "square(1)"
      ],
      "metadata": {
        "colab": {
          "base_uri": "https://localhost:8080/"
        },
        "id": "hMR617beiJ5J",
        "outputId": "aa15b7cc-c504-4236-d67b-48f5ea818077"
      },
      "execution_count": 18,
      "outputs": [
        {
          "output_type": "execute_result",
          "data": {
            "text/plain": [
              "1"
            ]
          },
          "metadata": {},
          "execution_count": 18
        }
      ]
    },
    {
      "cell_type": "code",
      "source": [
        "#global variable\n",
        "a=10\n",
        "def fun():\n",
        "  global a\n",
        "  a +=2\n",
        "  print(a)\n",
        "fun()\n",
        "a"
      ],
      "metadata": {
        "colab": {
          "base_uri": "https://localhost:8080/"
        },
        "id": "bL0z2aKq_dT9",
        "outputId": "4991c92a-bee0-4164-b914-64506d6681f3"
      },
      "execution_count": 19,
      "outputs": [
        {
          "output_type": "stream",
          "name": "stdout",
          "text": [
            "12\n"
          ]
        },
        {
          "output_type": "execute_result",
          "data": {
            "text/plain": [
              "12"
            ]
          },
          "metadata": {},
          "execution_count": 19
        }
      ]
    },
    {
      "cell_type": "code",
      "source": [
        "b=20\n",
        "def fun():\n",
        "  # b=20\n",
        "  global b\n",
        "  b=30\n",
        "  print(b)\n",
        "fun()  "
      ],
      "metadata": {
        "colab": {
          "base_uri": "https://localhost:8080/"
        },
        "id": "DKnFRxowBeI2",
        "outputId": "2107c639-1c0b-441d-a434-2dbd12a3f245"
      },
      "execution_count": 20,
      "outputs": [
        {
          "output_type": "stream",
          "name": "stdout",
          "text": [
            "30\n"
          ]
        }
      ]
    },
    {
      "cell_type": "code",
      "source": [
        "# class\n",
        "class Triangle:\n",
        "  def __init__(self):\n",
        "      self.height=0\n",
        "      self.base=0"
      ],
      "metadata": {
        "id": "mJyDcP1N_o1y"
      },
      "execution_count": 21,
      "outputs": []
    },
    {
      "cell_type": "code",
      "source": [
        "t1 = Triangle()\n",
        "print(t1.base,t1.height)"
      ],
      "metadata": {
        "colab": {
          "base_uri": "https://localhost:8080/"
        },
        "id": "gc39BYRNjyaW",
        "outputId": "917bed02-2a2f-4a30-d2f5-20599ffb9655"
      },
      "execution_count": 22,
      "outputs": [
        {
          "output_type": "stream",
          "name": "stdout",
          "text": [
            "0 0\n"
          ]
        }
      ]
    },
    {
      "cell_type": "code",
      "source": [
        "print(t1)"
      ],
      "metadata": {
        "colab": {
          "base_uri": "https://localhost:8080/"
        },
        "id": "E8hoLIA7s6Pg",
        "outputId": "89532127-02d6-44d4-88ad-912647cd8471"
      },
      "execution_count": 23,
      "outputs": [
        {
          "output_type": "stream",
          "name": "stdout",
          "text": [
            "<__main__.Triangle object at 0x7f03552b6110>\n"
          ]
        }
      ]
    },
    {
      "cell_type": "code",
      "source": [
        "class PrivateClass:\n",
        "  def __init__(self):\n",
        "    self.__name='love'\n",
        "    self.age=10"
      ],
      "metadata": {
        "id": "UarfrWGpwOhD"
      },
      "execution_count": 24,
      "outputs": []
    },
    {
      "cell_type": "code",
      "source": [
        "p1=PrivateClass()\n",
        "print(p1.age)"
      ],
      "metadata": {
        "colab": {
          "base_uri": "https://localhost:8080/"
        },
        "id": "TiUd_b1fwd9B",
        "outputId": "a62cac0c-b50f-4945-bf04-72a3b055a2c7"
      },
      "execution_count": 25,
      "outputs": [
        {
          "output_type": "stream",
          "name": "stdout",
          "text": [
            "10\n"
          ]
        }
      ]
    },
    {
      "cell_type": "code",
      "source": [
        "# instance method\n",
        "class NameAge:\n",
        "  def __init__(self):\n",
        "    self.name='krishna'\n",
        "    self.age=23\n",
        "  def read(self):\n",
        "    self.name=input('inter our name')\n",
        "    self.age= int(input('inter your age'))\n",
        "  def find_area(self):\n",
        "    return self.name,' ',self.age  "
      ],
      "metadata": {
        "id": "hNfAYUbb4VyV"
      },
      "execution_count": 26,
      "outputs": []
    },
    {
      "cell_type": "code",
      "source": [
        "n1=NameAge()\n",
        "print(n1.name,n1.age)\n",
        "n1.read()\n",
        "print(n1.name,n1.age)"
      ],
      "metadata": {
        "colab": {
          "base_uri": "https://localhost:8080/"
        },
        "id": "5h2eyb1o5QPx",
        "outputId": "3976674d-ef15-41c7-82d3-b1efa0a2be02"
      },
      "execution_count": 27,
      "outputs": [
        {
          "output_type": "stream",
          "name": "stdout",
          "text": [
            "krishna 23\n",
            "inter our namekk\n",
            "inter your age23\n",
            "kk 23\n"
          ]
        }
      ]
    },
    {
      "cell_type": "code",
      "source": [
        "class Matrix:\n",
        "  def __init__(self):\n",
        "    self.matrix = [[],[]]\n",
        "  def read(self):\n",
        "    for i in range(2):\n",
        "      for j in range(2):\n",
        "        element=int(input(\"input element of matrix \"))\n",
        "        self.matrix[i].append(element)\n",
        "\n",
        "  def print_matrix(self):\n",
        "    for i in range(2):\n",
        "      for j in range(2):\n",
        "        print(self.matrix[i][j],end=\" \")\n",
        "      print()"
      ],
      "metadata": {
        "id": "PX7yDPAgQUDT"
      },
      "execution_count": 28,
      "outputs": []
    },
    {
      "cell_type": "code",
      "source": [
        "m1=Matrix()\n",
        "m1.read()\n",
        "m1.print_matrix()"
      ],
      "metadata": {
        "colab": {
          "base_uri": "https://localhost:8080/"
        },
        "id": "YwA66OjeRtq_",
        "outputId": "6e839df7-5a22-42ef-eb6b-92cc69bf1dd5"
      },
      "execution_count": 29,
      "outputs": [
        {
          "output_type": "stream",
          "name": "stdout",
          "text": [
            "input element of matrix 1\n",
            "input element of matrix 2\n",
            "input element of matrix 3\n",
            "input element of matrix 4\n",
            "1 2 \n",
            "3 4 \n"
          ]
        }
      ]
    },
    {
      "cell_type": "code",
      "source": [
        "class Pri:\n",
        "  def __init__(self):\n",
        "    self.__x=10\n",
        "    self.__y=20\n",
        "  def print_xy(self):\n",
        "     print(self.__x,self.__y)"
      ],
      "metadata": {
        "id": "b2ytnq3CXG2f"
      },
      "execution_count": 30,
      "outputs": []
    },
    {
      "cell_type": "code",
      "source": [
        "p3=Pri()\n",
        "p3.print_xy()"
      ],
      "metadata": {
        "colab": {
          "base_uri": "https://localhost:8080/"
        },
        "id": "qaRapRicZx8F",
        "outputId": "8d0024fe-0c01-4038-d726-756266c64322"
      },
      "execution_count": 31,
      "outputs": [
        {
          "output_type": "stream",
          "name": "stdout",
          "text": [
            "10 20\n"
          ]
        }
      ]
    },
    {
      "cell_type": "code",
      "source": [
        "class Priv:\n",
        "  def __init__(self):\n",
        "    self.__x=20\n",
        "    self.__y=40\n",
        "  def private_access(self):\n",
        "    print(self.__x,self.__y)\n",
        "  def private_upate(self,x,y):\n",
        "    self.__x=x\n",
        "    self.__y=y\n",
        " "
      ],
      "metadata": {
        "id": "bGuSap_ybe5E"
      },
      "execution_count": 32,
      "outputs": []
    },
    {
      "cell_type": "code",
      "source": [
        "pr=Priv()\n",
        "pr.private_access()\n",
        "pr.private_upate(50,60)\n",
        "pr.private_access()"
      ],
      "metadata": {
        "colab": {
          "base_uri": "https://localhost:8080/"
        },
        "id": "STlSlPGQcW-U",
        "outputId": "27a99924-c373-433e-bcd9-2977d57b59f9"
      },
      "execution_count": 33,
      "outputs": [
        {
          "output_type": "stream",
          "name": "stdout",
          "text": [
            "20 40\n",
            "50 60\n"
          ]
        }
      ]
    },
    {
      "cell_type": "code",
      "source": [
        "class MyInter:\n",
        "   def __init__(self,value = 0):\n",
        "     self.__value = value\n",
        "   def __str__(self):\n",
        "     return str(self.__value)"
      ],
      "metadata": {
        "id": "nj9k-YkMdHSr"
      },
      "execution_count": 34,
      "outputs": []
    },
    {
      "cell_type": "code",
      "source": [
        "a = MyInter()\n",
        "b = MyInter(20)\n",
        "print(a)\n",
        "print(b)"
      ],
      "metadata": {
        "colab": {
          "base_uri": "https://localhost:8080/"
        },
        "id": "eaxx8089xoHJ",
        "outputId": "7992bb49-7444-4707-d003-303697f9a3f4"
      },
      "execution_count": 35,
      "outputs": [
        {
          "output_type": "stream",
          "name": "stdout",
          "text": [
            "0\n",
            "20\n"
          ]
        }
      ]
    },
    {
      "cell_type": "code",
      "source": [
        "class Marks:\n",
        "  def __init__(self,sub1,sub2,sub3):\n",
        "    self.__sub1=sub1\n",
        "    self.__sub2=sub2\n",
        "    self.__sub3=sub3\n",
        "  def print_marks(self):\n",
        "    print(self.__sub1,self.__sub2,self.__sub3)\n",
        "  def compare_marks(self,stud2):\n",
        "    if self.__sub1 == stud2.__sub1 and self.__sub2 == stud2.__sub2 and self.__sub3 == stud2.__sub3:\n",
        "      return True\n",
        "    else:\n",
        "      return False"
      ],
      "metadata": {
        "id": "9q3hOAFjCFeT"
      },
      "execution_count": 36,
      "outputs": []
    },
    {
      "cell_type": "code",
      "source": [
        "student1=Marks(20,30,40)\n",
        "student2=Marks(40,50,60)\n",
        "student3=Marks(70,80,90)"
      ],
      "metadata": {
        "id": "QnO_H_C9F-Qf"
      },
      "execution_count": 37,
      "outputs": []
    },
    {
      "cell_type": "code",
      "source": [
        "student1.print_marks()\n",
        "student2.print_marks()\n",
        "student3.print_marks()"
      ],
      "metadata": {
        "colab": {
          "base_uri": "https://localhost:8080/"
        },
        "id": "a2bAUxHu1jkF",
        "outputId": "71db28a7-7e17-4557-b6e5-7612e7018aaf"
      },
      "execution_count": 38,
      "outputs": [
        {
          "output_type": "stream",
          "name": "stdout",
          "text": [
            "20 30 40\n",
            "40 50 60\n",
            "70 80 90\n"
          ]
        }
      ]
    },
    {
      "cell_type": "code",
      "source": [
        "b=student1.compare_marks(student3)\n",
        "b"
      ],
      "metadata": {
        "colab": {
          "base_uri": "https://localhost:8080/"
        },
        "id": "WSCclkKqGmuU",
        "outputId": "7db48104-cff2-45e4-9a27-ded7a835e85d"
      },
      "execution_count": 39,
      "outputs": [
        {
          "output_type": "execute_result",
          "data": {
            "text/plain": [
              "False"
            ]
          },
          "metadata": {},
          "execution_count": 39
        }
      ]
    },
    {
      "cell_type": "code",
      "source": [
        "if b == True:\n",
        "  print('marks are equals')\n",
        "else:\n",
        "  print('marks are not equals')  "
      ],
      "metadata": {
        "colab": {
          "base_uri": "https://localhost:8080/"
        },
        "id": "_iOLrsRd4ld1",
        "outputId": "607726fa-7cf4-45f2-c485-8c47684a540b"
      },
      "execution_count": 40,
      "outputs": [
        {
          "output_type": "stream",
          "name": "stdout",
          "text": [
            "marks are not equals\n"
          ]
        }
      ]
    },
    {
      "cell_type": "code",
      "source": [
        "# matrix class inside matrix object\n",
        "class Matrix:\n",
        "  def __init__(self):\n",
        "    self.__matrix=[[],[]]\n",
        "  def read_matrix(self):\n",
        "    print('input element of matrix')\n",
        "    for i in range(2):\n",
        "      for j in range(2):\n",
        "        e=int(input(\"input element: \"))\n",
        "        self.__matrix[i].append(e)\n",
        "      print()\n",
        "  def print_matrix(self):\n",
        "    print('print matrix element')\n",
        "    for i in range(2):\n",
        "      for j in range(2):\n",
        "        print(self.__matrix[i][j],end=\" \")\n",
        "      print()        \n",
        "  def add_matrix(self,m2):\n",
        "    m3=Matrix()\n",
        "    for i in range(2):\n",
        "      for j in range(2):\n",
        "        m3.__matrix[i].append(self.__matrix[i][j] + m2.__matrix[i][j])\n",
        "    return m3    "
      ],
      "metadata": {
        "id": "Rnugx0uB5QK3"
      },
      "execution_count": 41,
      "outputs": []
    },
    {
      "cell_type": "code",
      "source": [
        "matrix1=Matrix()\n",
        "matrix2=Matrix()\n",
        "matrix1.read_matrix()\n",
        "matrix2.read_matrix()\n",
        "matrix1.print_matrix()\n",
        "matrix2.print_matrix()\n",
        "matrix3=matrix1.add_matrix(matrix2)"
      ],
      "metadata": {
        "id": "r2J_nH-c40mU",
        "colab": {
          "base_uri": "https://localhost:8080/"
        },
        "outputId": "c3abed34-2fea-4e68-e640-93d49efeb2c0"
      },
      "execution_count": 42,
      "outputs": [
        {
          "output_type": "stream",
          "name": "stdout",
          "text": [
            "input element of matrix\n",
            "input element: 5\n",
            "input element: 6\n",
            "\n",
            "input element: 7\n",
            "input element: 8\n",
            "\n",
            "input element of matrix\n",
            "input element: 9\n",
            "input element: 7\n",
            "\n",
            "input element: 8\n",
            "input element: 9\n",
            "\n",
            "print matrix element\n",
            "5 6 \n",
            "7 8 \n",
            "print matrix element\n",
            "9 7 \n",
            "8 9 \n"
          ]
        }
      ]
    },
    {
      "cell_type": "code",
      "source": [
        "matrix3.print_matrix()"
      ],
      "metadata": {
        "colab": {
          "base_uri": "https://localhost:8080/"
        },
        "id": "I9mqgp01BkiI",
        "outputId": "743f6518-a0cd-4f4f-99d5-c82267e66d10"
      },
      "execution_count": 43,
      "outputs": [
        {
          "output_type": "stream",
          "name": "stdout",
          "text": [
            "print matrix element\n",
            "14 13 \n",
            "15 17 \n"
          ]
        }
      ]
    },
    {
      "cell_type": "code",
      "source": [
        "#without matrix inside matrix object\n",
        "class Matrix:\n",
        "  def __init__(self):\n",
        "    self.__matrix=[[],[]]\n",
        "  def read_matrix(self):\n",
        "    print('input element of matrix')\n",
        "    for i in range(2):\n",
        "      for j in range(2):\n",
        "        e=int(input(\"input element: \"))\n",
        "        self.__matrix[i].append(e)\n",
        "      print()\n",
        "  def print_matrix(self):\n",
        "    print('print matrix element')\n",
        "    for i in range(2):\n",
        "      for j in range(2):\n",
        "        print(self.__matrix[i][j],end=\" \")\n",
        "      print()        \n",
        "  def add_matrix(self,m2):\n",
        "    m3=[[],[]]\n",
        "    for i in range(2):\n",
        "      for j in range(2):\n",
        "        m3[i].append(self.__matrix[i][j] + m2.__matrix[i][j])\n",
        "    return m3"
      ],
      "metadata": {
        "id": "qc7rm12iITaN"
      },
      "execution_count": 44,
      "outputs": []
    },
    {
      "cell_type": "code",
      "source": [
        "matrix1=Matrix()\n",
        "matrix2=Matrix()\n",
        "matrix1.read_matrix()\n",
        "matrix2.read_matrix()\n",
        "matrix1.print_matrix()\n",
        "matrix2.print_matrix()\n",
        "matrix3=matrix1.add_matrix(matrix2)"
      ],
      "metadata": {
        "id": "DLzaWSDgIdqs",
        "colab": {
          "base_uri": "https://localhost:8080/"
        },
        "outputId": "b7aad609-e0f4-40b4-bd22-6cc7090c3270"
      },
      "execution_count": 45,
      "outputs": [
        {
          "output_type": "stream",
          "name": "stdout",
          "text": [
            "input element of matrix\n",
            "input element: 7\n",
            "input element: 8\n",
            "\n",
            "input element: 9\n",
            "input element: 4\n",
            "\n",
            "input element of matrix\n",
            "input element: 1\n",
            "input element: 2\n",
            "\n",
            "input element: 5\n",
            "input element: 7\n",
            "\n",
            "print matrix element\n",
            "7 8 \n",
            "9 4 \n",
            "print matrix element\n",
            "1 2 \n",
            "5 7 \n"
          ]
        }
      ]
    },
    {
      "cell_type": "code",
      "source": [
        "matrix3"
      ],
      "metadata": {
        "colab": {
          "base_uri": "https://localhost:8080/"
        },
        "id": "7Q9TqEBAIz0v",
        "outputId": "1f8dacaf-4ac9-46f3-b18c-15ef05be09f3"
      },
      "execution_count": 46,
      "outputs": [
        {
          "output_type": "execute_result",
          "data": {
            "text/plain": [
              "[[8, 10], [14, 11]]"
            ]
          },
          "metadata": {},
          "execution_count": 46
        }
      ]
    },
    {
      "cell_type": "code",
      "source": [
        "class Alpha:\n",
        "  def __init__(self):\n",
        "    self.y=20 # instance variable\n",
        "  def df(self):  \n",
        "    a1 = Alpha()\n",
        "    print(a1,self.y)"
      ],
      "metadata": {
        "id": "TuKIIWtALR2m"
      },
      "execution_count": 47,
      "outputs": []
    },
    {
      "cell_type": "code",
      "source": [
        "al1=Alpha()\n",
        "al1.df()"
      ],
      "metadata": {
        "colab": {
          "base_uri": "https://localhost:8080/"
        },
        "id": "o-_dw5rmNHx-",
        "outputId": "76924b6c-5192-470d-8979-ba6806739b36"
      },
      "execution_count": 48,
      "outputs": [
        {
          "output_type": "stream",
          "name": "stdout",
          "text": [
            "<__main__.Alpha object at 0x7f0355246c50> 20\n"
          ]
        }
      ]
    },
    {
      "cell_type": "code",
      "source": [
        "class A:\n",
        "  x=10\n",
        "  @staticmethod\n",
        "  def m1():\n",
        "    print(A.x)"
      ],
      "metadata": {
        "id": "zdTLNa69SWM-"
      },
      "execution_count": 49,
      "outputs": []
    },
    {
      "cell_type": "code",
      "source": [
        "print(A.m1())"
      ],
      "metadata": {
        "colab": {
          "base_uri": "https://localhost:8080/"
        },
        "id": "gCIF2fkeUHG9",
        "outputId": "5db951ad-ebcd-48fa-a6b6-0354cb9e1df9"
      },
      "execution_count": 50,
      "outputs": [
        {
          "output_type": "stream",
          "name": "stdout",
          "text": [
            "10\n",
            "None\n"
          ]
        }
      ]
    },
    {
      "cell_type": "code",
      "source": [
        "class Cla:\n",
        "  __x=10\n",
        "  @classmethod\n",
        "  def get_x(cls):\n",
        "    return cls.__x     "
      ],
      "metadata": {
        "id": "sv0D2d72UNi0"
      },
      "execution_count": 51,
      "outputs": []
    },
    {
      "cell_type": "code",
      "source": [
        "print(Cla.get_x())"
      ],
      "metadata": {
        "colab": {
          "base_uri": "https://localhost:8080/"
        },
        "id": "xhSZb7qwXTvV",
        "outputId": "27111ef9-5356-4d32-bcd9-91a7a8a85730"
      },
      "execution_count": 52,
      "outputs": [
        {
          "output_type": "stream",
          "name": "stdout",
          "text": [
            "10\n"
          ]
        }
      ]
    },
    {
      "cell_type": "markdown",
      "source": [
        "## Inheritance \n",
        "class A:\n",
        " def __init__():\n",
        "   pass\n",
        "class B(A):\n",
        " def __init__():\n",
        "  super().__init__()\n",
        "  pass\n",
        "\n",
        "\n",
        "  syntax: class B(A)\n",
        "        "
      ],
      "metadata": {
        "id": "4ur5vsBM34cP"
      }
    },
    {
      "cell_type": "code",
      "source": [
        "class A:\n",
        "  def __init__(self,x,y):\n",
        "    self.x=x\n",
        "    self.y=y  "
      ],
      "metadata": {
        "id": "-ohfvb1D6C_P"
      },
      "execution_count": 53,
      "outputs": []
    },
    {
      "cell_type": "code",
      "source": [
        "class B(A):\n",
        "  def __init__(self,x,y,p,q):\n",
        "    super().__init__(x,y)\n",
        "    self.p=p\n",
        "    self.q=q"
      ],
      "metadata": {
        "id": "GNyclGM77_vJ"
      },
      "execution_count": 54,
      "outputs": []
    },
    {
      "cell_type": "code",
      "source": [
        "b1=B(10,20,30,40)\n",
        "(b1.x,b1.p,b1.q,b1.y)"
      ],
      "metadata": {
        "colab": {
          "base_uri": "https://localhost:8080/"
        },
        "id": "W5sz_GrN8_eo",
        "outputId": "58fbe16c-34ee-4564-c3b0-2797ac7ac45b"
      },
      "execution_count": 55,
      "outputs": [
        {
          "output_type": "execute_result",
          "data": {
            "text/plain": [
              "(10, 30, 40, 20)"
            ]
          },
          "metadata": {},
          "execution_count": 55
        }
      ]
    },
    {
      "cell_type": "code",
      "source": [
        "class Employee:\n",
        "  def __init__(self):\n",
        "    self.__employNo=None\n",
        "    self.__name=None\n",
        "  def read_employ(self):\n",
        "    self.__employNo=int(input(\"input your employee Id \"))\n",
        "    self.__name=input(\"input your employee Name \")\n",
        "  def print_employe(self):\n",
        "    print(self.__employNo,self.__name,sep=',')"
      ],
      "metadata": {
        "id": "3aXZnfbc_g_e"
      },
      "execution_count": 56,
      "outputs": []
    },
    {
      "cell_type": "code",
      "source": [
        "# emp1=Employee()\n",
        "# emp1.read_employ()\n",
        "# emp1.print_employe()"
      ],
      "metadata": {
        "id": "_kr0bCy0JKC3"
      },
      "execution_count": 57,
      "outputs": []
    },
    {
      "cell_type": "code",
      "source": [
        "class Employee_salary(Employee):\n",
        "  def __init__(self):\n",
        "    super().__init__()\n",
        "    self.__salary=None\n",
        "  def read_salary(self):\n",
        "    self.__salary=int(input('Enter salary ...'))\n",
        "  def print_salary(self):\n",
        "    print(self.__salary)    "
      ],
      "metadata": {
        "id": "nL80H0nAMpWH"
      },
      "execution_count": 58,
      "outputs": []
    },
    {
      "cell_type": "code",
      "source": [
        "emp1=Employee_salary()\n",
        "emp1.read_employ()\n",
        "emp1.read_salary()\n",
        "emp1.print_employe()"
      ],
      "metadata": {
        "colab": {
          "base_uri": "https://localhost:8080/"
        },
        "id": "Qbh2TXWiL9a3",
        "outputId": "fc1a8b2f-98b2-4a04-9805-b15b8fdfa25d"
      },
      "execution_count": 59,
      "outputs": [
        {
          "output_type": "stream",
          "name": "stdout",
          "text": [
            "input your employee Id 123\n",
            "input your employee Name kk\n",
            "Enter salary ...60000\n",
            "123,kk\n"
          ]
        }
      ]
    },
    {
      "cell_type": "code",
      "source": [
        "emp1.print_salary()"
      ],
      "metadata": {
        "colab": {
          "base_uri": "https://localhost:8080/"
        },
        "id": "8H4DDR9JbiHD",
        "outputId": "e1ede10a-f854-4b50-e4e0-2b231dc21942"
      },
      "execution_count": 60,
      "outputs": [
        {
          "output_type": "stream",
          "name": "stdout",
          "text": [
            "60000\n"
          ]
        }
      ]
    },
    {
      "cell_type": "markdown",
      "source": [
        "## multiple inheritance"
      ],
      "metadata": {
        "id": "QBfw2uzHcj2Z"
      }
    },
    {
      "cell_type": "code",
      "source": [
        "class A:\n",
        "  def __init__(self):\n",
        "    print('this is constructor of A')   "
      ],
      "metadata": {
        "id": "1TVuTyJdcpBR"
      },
      "execution_count": 61,
      "outputs": []
    },
    {
      "cell_type": "code",
      "source": [
        "class B:\n",
        "  def __init__(self):\n",
        "    print('this is constructor of B')"
      ],
      "metadata": {
        "id": "sNka1shPc4HB"
      },
      "execution_count": 62,
      "outputs": []
    },
    {
      "cell_type": "code",
      "source": [
        "class C(A,B):\n",
        "  def __init__(self):\n",
        "    A.__init__(self)\n",
        "    B.__init__(self)\n",
        "    print('this is constractor of C')"
      ],
      "metadata": {
        "id": "wkhZ262gc_Sv"
      },
      "execution_count": 63,
      "outputs": []
    },
    {
      "cell_type": "code",
      "source": [
        "multi=C()"
      ],
      "metadata": {
        "colab": {
          "base_uri": "https://localhost:8080/"
        },
        "id": "_ukwKgLmdWhh",
        "outputId": "ebc10078-beef-481d-c24a-46118b47c14a"
      },
      "execution_count": 64,
      "outputs": [
        {
          "output_type": "stream",
          "name": "stdout",
          "text": [
            "this is constructor of A\n",
            "this is constructor of B\n",
            "this is constractor of C\n"
          ]
        }
      ]
    },
    {
      "cell_type": "code",
      "source": [
        "class F:\n",
        "  def __init__(self):\n",
        "    self.x=20"
      ],
      "metadata": {
        "id": "6qiFdj8fdhpf"
      },
      "execution_count": 65,
      "outputs": []
    },
    {
      "cell_type": "code",
      "source": [
        "class G:\n",
        "  def __init__(self):\n",
        "    self.y=30"
      ],
      "metadata": {
        "id": "4yCsnaIOfhc4"
      },
      "execution_count": 66,
      "outputs": []
    },
    {
      "cell_type": "code",
      "source": [
        "class H(F,G):\n",
        "  def __init__(self):\n",
        "    F.__init__(self)\n",
        "    G.__init__(self)\n",
        "    self.z=40"
      ],
      "metadata": {
        "id": "SU-PH4n1fqN3"
      },
      "execution_count": 67,
      "outputs": []
    },
    {
      "cell_type": "code",
      "source": [
        "mult1=H()\n",
        "print(mult1.x)\n",
        "print(mult1.y)\n",
        "print(mult1.z)"
      ],
      "metadata": {
        "colab": {
          "base_uri": "https://localhost:8080/"
        },
        "id": "r7LQGwx3gM3Q",
        "outputId": "db172a09-82d7-4ac1-951b-8ab06b3b6d21"
      },
      "execution_count": 68,
      "outputs": [
        {
          "output_type": "stream",
          "name": "stdout",
          "text": [
            "20\n",
            "30\n",
            "40\n"
          ]
        }
      ]
    },
    {
      "cell_type": "markdown",
      "source": [
        "### method override"
      ],
      "metadata": {
        "id": "WahQOEHLhtBq"
      }
    },
    {
      "cell_type": "code",
      "source": [
        "class Parent:\n",
        "  def act(self):\n",
        "    print('good for his son always')    "
      ],
      "metadata": {
        "id": "ZmSZV4-fhxjn"
      },
      "execution_count": 69,
      "outputs": []
    },
    {
      "cell_type": "code",
      "source": [
        "class Child(Parent):\n",
        "  def act(self):\n",
        "    print('may be good for our papa')"
      ],
      "metadata": {
        "id": "nhbKb-URiAQo"
      },
      "execution_count": 70,
      "outputs": []
    },
    {
      "cell_type": "code",
      "source": [
        "family=Child()\n",
        "family.act()"
      ],
      "metadata": {
        "colab": {
          "base_uri": "https://localhost:8080/"
        },
        "id": "pGZlYUj3iPSQ",
        "outputId": "c4f79ed1-fbc3-4325-d916-3cc8b0c34077"
      },
      "execution_count": 71,
      "outputs": [
        {
          "output_type": "stream",
          "name": "stdout",
          "text": [
            "may be good for our papa\n"
          ]
        }
      ]
    },
    {
      "cell_type": "markdown",
      "source": [
        "### object pass in class"
      ],
      "metadata": {
        "id": "iE3UOpGBil3A"
      }
    },
    {
      "cell_type": "code",
      "source": [
        "class Animal:\n",
        "  def run(self):\n",
        "    print('Animal runing...')"
      ],
      "metadata": {
        "id": "SPNnkm_5kAYw"
      },
      "execution_count": 72,
      "outputs": []
    },
    {
      "cell_type": "code",
      "source": [
        "class Dog(Animal):\n",
        "  def run(self):\n",
        "    print('Dog runing...')"
      ],
      "metadata": {
        "id": "jL4yIkJ1kJH7"
      },
      "execution_count": 73,
      "outputs": []
    },
    {
      "cell_type": "code",
      "source": [
        "class Cat(Animal):\n",
        "  def run(self):\n",
        "    print('Cat is runing...')"
      ],
      "metadata": {
        "id": "jSqOTVxJkQzI"
      },
      "execution_count": 74,
      "outputs": []
    },
    {
      "cell_type": "code",
      "source": [
        "class Game:\n",
        "  def play(a):\n",
        "    a.run()"
      ],
      "metadata": {
        "id": "iz_4pvbDkajQ"
      },
      "execution_count": 75,
      "outputs": []
    },
    {
      "cell_type": "code",
      "source": [
        "# error bcoz self not argument in play()\n",
        "gam1 = Game()\n",
        "gam1.play(Dog())"
      ],
      "metadata": {
        "colab": {
          "base_uri": "https://localhost:8080/",
          "height": 207
        },
        "id": "9Dtt8E7-kvW4",
        "outputId": "7add6000-83db-4b3e-95a0-f2767ecaa7ba"
      },
      "execution_count": 77,
      "outputs": [
        {
          "output_type": "error",
          "ename": "TypeError",
          "evalue": "ignored",
          "traceback": [
            "\u001b[0;31m---------------------------------------------------------------------------\u001b[0m",
            "\u001b[0;31mTypeError\u001b[0m                                 Traceback (most recent call last)",
            "\u001b[0;32m<ipython-input-77-8fa6277b47fb>\u001b[0m in \u001b[0;36m<module>\u001b[0;34m()\u001b[0m\n\u001b[1;32m      1\u001b[0m \u001b[0;31m# error bcoz self not argument in play()\u001b[0m\u001b[0;34m\u001b[0m\u001b[0;34m\u001b[0m\u001b[0;34m\u001b[0m\u001b[0m\n\u001b[1;32m      2\u001b[0m \u001b[0mgam1\u001b[0m \u001b[0;34m=\u001b[0m \u001b[0mGame\u001b[0m\u001b[0;34m(\u001b[0m\u001b[0;34m)\u001b[0m\u001b[0;34m\u001b[0m\u001b[0;34m\u001b[0m\u001b[0m\n\u001b[0;32m----> 3\u001b[0;31m \u001b[0mgam1\u001b[0m\u001b[0;34m.\u001b[0m\u001b[0mplay\u001b[0m\u001b[0;34m(\u001b[0m\u001b[0mDog\u001b[0m\u001b[0;34m(\u001b[0m\u001b[0;34m)\u001b[0m\u001b[0;34m)\u001b[0m\u001b[0;34m\u001b[0m\u001b[0;34m\u001b[0m\u001b[0m\n\u001b[0m",
            "\u001b[0;31mTypeError\u001b[0m: play() takes 1 positional argument but 2 were given"
          ]
        }
      ]
    },
    {
      "cell_type": "markdown",
      "source": [
        "## call direct class without make class object"
      ],
      "metadata": {
        "id": "amvTOGDnoK3Z"
      }
    },
    {
      "cell_type": "code",
      "source": [
        "Game.play(Dog())"
      ],
      "metadata": {
        "colab": {
          "base_uri": "https://localhost:8080/"
        },
        "id": "f3D0xqwUnG-g",
        "outputId": "6b3aa66c-77bb-468e-b918-320f64736192"
      },
      "execution_count": 78,
      "outputs": [
        {
          "output_type": "stream",
          "name": "stdout",
          "text": [
            "Dog runing...\n"
          ]
        }
      ]
    },
    {
      "cell_type": "code",
      "source": [
        ""
      ],
      "metadata": {
        "id": "1s4Pxt3JoA9n"
      },
      "execution_count": 78,
      "outputs": []
    },
    {
      "cell_type": "code",
      "source": [
        "class Sim:\n",
        "  def connect(self):\n",
        "    print('connected to network...')"
      ],
      "metadata": {
        "id": "K0PyYmfcpbMc"
      },
      "execution_count": 79,
      "outputs": []
    },
    {
      "cell_type": "code",
      "source": [
        "class Airtel(Sim):\n",
        "  def connect(self):\n",
        "    print('connected to Airtel network...')"
      ],
      "metadata": {
        "id": "rYiBomQxpn9Q"
      },
      "execution_count": 80,
      "outputs": []
    },
    {
      "cell_type": "code",
      "source": [
        "class Bsnl(Sim):\n",
        "  def connect(self):\n",
        "    print('connected to Bsnl network...')"
      ],
      "metadata": {
        "id": "nRrRbdhKp5yr"
      },
      "execution_count": 81,
      "outputs": []
    },
    {
      "cell_type": "code",
      "source": [
        "class Mobile:\n",
        "  def insert(self,s):\n",
        "    s.connect()"
      ],
      "metadata": {
        "id": "3x9XFjheqWl5"
      },
      "execution_count": 82,
      "outputs": []
    },
    {
      "cell_type": "code",
      "source": [
        "sam=Mobile()\n",
        "iphone=Mobile()\n",
        "sam.insert(Airtel())\n",
        "iphone.insert(Bsnl())"
      ],
      "metadata": {
        "colab": {
          "base_uri": "https://localhost:8080/"
        },
        "id": "EuGjtE5dqDYg",
        "outputId": "e37041cc-b7c5-4be6-b142-a472c136ba0e"
      },
      "execution_count": 83,
      "outputs": [
        {
          "output_type": "stream",
          "name": "stdout",
          "text": [
            "connected to Airtel network...\n",
            "connected to Bsnl network...\n"
          ]
        }
      ]
    },
    {
      "cell_type": "code",
      "source": [
        "# abstract"
      ],
      "metadata": {
        "id": "HZef1Is_qp3Y"
      },
      "execution_count": 84,
      "outputs": []
    },
    {
      "cell_type": "code",
      "source": [
        "from abc import ABC,abstractclassmethod\n",
        "class Animal(ABC):\n",
        "  @abstractclassmethod\n",
        "  def eat(self):\n",
        "    pass"
      ],
      "metadata": {
        "id": "vqmPUvkq8FDv"
      },
      "execution_count": 85,
      "outputs": []
    },
    {
      "cell_type": "code",
      "source": [
        "class Dog(Animal):\n",
        "  def eat(self):\n",
        "    print('Dog eating non-veg...')"
      ],
      "metadata": {
        "id": "m7ofw5cv9i5-"
      },
      "execution_count": 90,
      "outputs": []
    },
    {
      "cell_type": "code",
      "source": [
        "class cow(Animal):\n",
        "  def eat(self):\n",
        "    print('cow eating veg...')"
      ],
      "metadata": {
        "id": "zovFbTtt-WvV"
      },
      "execution_count": 91,
      "outputs": []
    },
    {
      "cell_type": "code",
      "source": [
        "dog1=Dog()\n",
        "dog1.eat()"
      ],
      "metadata": {
        "colab": {
          "base_uri": "https://localhost:8080/"
        },
        "id": "uUmzkRoc-n9c",
        "outputId": "b90b0854-273f-492d-fc73-5550c4e9a396"
      },
      "execution_count": 93,
      "outputs": [
        {
          "output_type": "stream",
          "name": "stdout",
          "text": [
            "Dog eating non-veg...\n"
          ]
        }
      ]
    },
    {
      "cell_type": "code",
      "source": [
        "ls"
      ],
      "metadata": {
        "colab": {
          "base_uri": "https://localhost:8080/"
        },
        "id": "Kms-Lm9gKFBO",
        "outputId": "99db8447-4e84-49e3-d4e4-6a7b9ce8fdf4"
      },
      "execution_count": 95,
      "outputs": [
        {
          "output_type": "stream",
          "name": "stdout",
          "text": [
            "\u001b[0m\u001b[01;34mdrive\u001b[0m/  \u001b[01;34msample_data\u001b[0m/\n"
          ]
        }
      ]
    },
    {
      "cell_type": "markdown",
      "source": [
        "file system"
      ],
      "metadata": {
        "id": "jFtdgV90KVGm"
      }
    },
    {
      "cell_type": "code",
      "source": [
        ""
      ],
      "metadata": {
        "id": "Z0paXP_pKcJF"
      },
      "execution_count": null,
      "outputs": []
    }
  ]
}