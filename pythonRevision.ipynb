{
  "nbformat": 4,
  "nbformat_minor": 0,
  "metadata": {
    "colab": {
      "name": "pythonRevision.ipynb",
      "provenance": [],
      "collapsed_sections": [],
      "authorship_tag": "ABX9TyO1YakW6DOQ9knSHw8J1Y0P",
      "include_colab_link": true
    },
    "kernelspec": {
      "name": "python3",
      "display_name": "Python 3"
    },
    "language_info": {
      "name": "python"
    }
  },
  "cells": [
    {
      "cell_type": "markdown",
      "metadata": {
        "id": "view-in-github",
        "colab_type": "text"
      },
      "source": [
        "<a href=\"https://colab.research.google.com/github/krishna-gbu/IPL-Data-Analysis/blob/master/pythonRevision.ipynb\" target=\"_parent\"><img src=\"https://colab.research.google.com/assets/colab-badge.svg\" alt=\"Open In Colab\"/></a>"
      ]
    },
    {
      "cell_type": "code",
      "execution_count": 54,
      "metadata": {
        "id": "NQiO6tt4bYXC"
      },
      "outputs": [],
      "source": [
        "def mai():\n",
        "  a=10\n",
        "  b=20\n",
        "  c=30\n",
        "  print(a,b,c)  "
      ]
    },
    {
      "cell_type": "code",
      "source": [
        "if __name__==\"__mai__\":\n",
        "   mai()"
      ],
      "metadata": {
        "id": "KTa4d2UFbwMN"
      },
      "execution_count": 55,
      "outputs": []
    },
    {
      "cell_type": "code",
      "source": [
        "print(__name__)"
      ],
      "metadata": {
        "colab": {
          "base_uri": "https://localhost:8080/"
        },
        "id": "GTGRgyndb7Vs",
        "outputId": "04bf1538-9a7d-4c53-9bff-ac105ec072f9"
      },
      "execution_count": 56,
      "outputs": [
        {
          "output_type": "stream",
          "name": "stdout",
          "text": [
            "__main__\n"
          ]
        }
      ]
    },
    {
      "cell_type": "code",
      "source": [
        "def fun(a=0,b=0,c=0):\n",
        "  print(a,b,c)"
      ],
      "metadata": {
        "id": "P-Zjpty838go"
      },
      "execution_count": 57,
      "outputs": []
    },
    {
      "cell_type": "code",
      "source": [
        "fun(60)"
      ],
      "metadata": {
        "colab": {
          "base_uri": "https://localhost:8080/"
        },
        "id": "jGG9wrW64Ic8",
        "outputId": "01cf7b51-aa1d-43de-d357-e8db4389ff59"
      },
      "execution_count": 58,
      "outputs": [
        {
          "output_type": "stream",
          "name": "stdout",
          "text": [
            "60 0 0\n"
          ]
        }
      ]
    },
    {
      "cell_type": "code",
      "source": [
        "def sum(*a):\n",
        "  print(a)\n",
        "  print(type(a))"
      ],
      "metadata": {
        "id": "sGkFbvvGFaAf"
      },
      "execution_count": 59,
      "outputs": []
    },
    {
      "cell_type": "code",
      "source": [
        "sum(1,2)"
      ],
      "metadata": {
        "colab": {
          "base_uri": "https://localhost:8080/"
        },
        "id": "vcfIFMFHFg_f",
        "outputId": "52e239e8-64a2-427c-e42d-468644bf925a"
      },
      "execution_count": 60,
      "outputs": [
        {
          "output_type": "stream",
          "name": "stdout",
          "text": [
            "(1, 2)\n",
            "<class 'tuple'>\n"
          ]
        }
      ]
    },
    {
      "cell_type": "code",
      "source": [
        "sum()"
      ],
      "metadata": {
        "colab": {
          "base_uri": "https://localhost:8080/"
        },
        "id": "OXDLE1cwF9L2",
        "outputId": "cab4b8f2-8c37-4521-8c67-d4e6b26c8104"
      },
      "execution_count": 61,
      "outputs": [
        {
          "output_type": "stream",
          "name": "stdout",
          "text": [
            "()\n",
            "<class 'tuple'>\n"
          ]
        }
      ]
    },
    {
      "cell_type": "code",
      "source": [
        "def fn(n):\n",
        "  if n!=0:\n",
        "    fn(n-1)\n",
        "  print(n)  "
      ],
      "metadata": {
        "id": "4teKUe0cZPGu"
      },
      "execution_count": 62,
      "outputs": []
    },
    {
      "cell_type": "code",
      "source": [
        "fn(3)"
      ],
      "metadata": {
        "colab": {
          "base_uri": "https://localhost:8080/"
        },
        "id": "qZTcZ1-TZYbn",
        "outputId": "54164dec-fc98-4748-91c3-fcfdcfdef3eb"
      },
      "execution_count": 63,
      "outputs": [
        {
          "output_type": "stream",
          "name": "stdout",
          "text": [
            "0\n",
            "1\n",
            "2\n",
            "3\n"
          ]
        }
      ]
    },
    {
      "cell_type": "code",
      "source": [
        "def rec():\n",
        "  i=0\n",
        "  i=i+1\n",
        "  print('i',i)\n",
        "  rec()\n"
      ],
      "metadata": {
        "id": "K2qTWziYgTK6"
      },
      "execution_count": 64,
      "outputs": []
    },
    {
      "cell_type": "code",
      "source": [
        "list1 = [1,2,3,4]"
      ],
      "metadata": {
        "id": "kkb3XuKU0roX"
      },
      "execution_count": 65,
      "outputs": []
    },
    {
      "cell_type": "code",
      "source": [
        "# filter\n",
        "a = lambda e : e%2 == 0\n",
        "print(a)\n",
        "list2=filter(a,list1)\n",
        "print([a for a in list2])"
      ],
      "metadata": {
        "colab": {
          "base_uri": "https://localhost:8080/"
        },
        "id": "iZSMYzN10mBA",
        "outputId": "5837c015-b635-41b7-ef22-1977b8b779fc"
      },
      "execution_count": 66,
      "outputs": [
        {
          "output_type": "stream",
          "name": "stdout",
          "text": [
            "<function <lambda> at 0x7f4583b92170>\n",
            "[2, 4]\n"
          ]
        }
      ]
    },
    {
      "cell_type": "code",
      "source": [
        "# filter\n",
        "b = lambda e : e%2 != 0\n",
        "print(b)\n",
        "list3=filter(b,list1)\n",
        "print([a for a in list3])"
      ],
      "metadata": {
        "colab": {
          "base_uri": "https://localhost:8080/"
        },
        "id": "q3dtJ7xO1nBy",
        "outputId": "15803030-13c8-40d4-8f41-9b8f33ee333b"
      },
      "execution_count": 67,
      "outputs": [
        {
          "output_type": "stream",
          "name": "stdout",
          "text": [
            "<function <lambda> at 0x7f458192b050>\n",
            "[1, 3]\n"
          ]
        }
      ]
    },
    {
      "cell_type": "code",
      "source": [
        "# map\n",
        "sqr=lambda s : s*s\n",
        "sqrlist= map(sqr,list1)\n",
        "print(list(sqrlist))"
      ],
      "metadata": {
        "colab": {
          "base_uri": "https://localhost:8080/"
        },
        "id": "ZlhsQY6V5xqa",
        "outputId": "0c48ff4b-b705-4ffc-a077-6240858d80ad"
      },
      "execution_count": 68,
      "outputs": [
        {
          "output_type": "stream",
          "name": "stdout",
          "text": [
            "[1, 4, 9, 16]\n"
          ]
        }
      ]
    },
    {
      "cell_type": "code",
      "source": [
        "# reduce\n",
        "# import functools\n",
        "from  functools import reduce\n",
        "add=lambda a,b : a+b\n",
        "# re = functools.reduce(add,list1)\n",
        "re = reduce(add,list1)\n",
        "re"
      ],
      "metadata": {
        "colab": {
          "base_uri": "https://localhost:8080/"
        },
        "id": "y12f6Ih97v4c",
        "outputId": "638c3cd5-1b1f-4f7a-fb83-21b22f1ee0c5"
      },
      "execution_count": 69,
      "outputs": [
        {
          "output_type": "execute_result",
          "data": {
            "text/plain": [
              "10"
            ]
          },
          "metadata": {},
          "execution_count": 69
        }
      ]
    },
    {
      "cell_type": "code",
      "source": [
        "square = lambda x : x*x if x > 0 else x\n",
        "square(1)"
      ],
      "metadata": {
        "colab": {
          "base_uri": "https://localhost:8080/"
        },
        "id": "hMR617beiJ5J",
        "outputId": "64bd6b00-28ac-463f-da27-a98b3259dcde"
      },
      "execution_count": 70,
      "outputs": [
        {
          "output_type": "execute_result",
          "data": {
            "text/plain": [
              "1"
            ]
          },
          "metadata": {},
          "execution_count": 70
        }
      ]
    },
    {
      "cell_type": "code",
      "source": [
        "#global variable\n",
        "a=10\n",
        "def fun():\n",
        "  global a\n",
        "  a +=2\n",
        "  print(a)\n",
        "fun()\n",
        "a"
      ],
      "metadata": {
        "colab": {
          "base_uri": "https://localhost:8080/"
        },
        "id": "bL0z2aKq_dT9",
        "outputId": "8f9bb844-0eb0-4528-c43c-a8db796c5337"
      },
      "execution_count": 71,
      "outputs": [
        {
          "output_type": "stream",
          "name": "stdout",
          "text": [
            "12\n"
          ]
        },
        {
          "output_type": "execute_result",
          "data": {
            "text/plain": [
              "12"
            ]
          },
          "metadata": {},
          "execution_count": 71
        }
      ]
    },
    {
      "cell_type": "code",
      "source": [
        "b=20\n",
        "def fun():\n",
        "  # b=20\n",
        "  global b\n",
        "  b=30\n",
        "  print(b)\n",
        "fun()  "
      ],
      "metadata": {
        "colab": {
          "base_uri": "https://localhost:8080/"
        },
        "id": "DKnFRxowBeI2",
        "outputId": "353f5bb1-c206-496e-a37b-d3432063e10f"
      },
      "execution_count": 72,
      "outputs": [
        {
          "output_type": "stream",
          "name": "stdout",
          "text": [
            "30\n"
          ]
        }
      ]
    },
    {
      "cell_type": "code",
      "source": [
        "# class\n",
        "class Triangle:\n",
        "  def __init__(self):\n",
        "      self.height=0\n",
        "      self.base=0"
      ],
      "metadata": {
        "id": "mJyDcP1N_o1y"
      },
      "execution_count": 73,
      "outputs": []
    },
    {
      "cell_type": "code",
      "source": [
        "t1 = Triangle()\n",
        "print(t1.base,t1.height)"
      ],
      "metadata": {
        "colab": {
          "base_uri": "https://localhost:8080/"
        },
        "id": "gc39BYRNjyaW",
        "outputId": "81f14d69-ba42-4d8c-a8ba-6192159bf029"
      },
      "execution_count": 74,
      "outputs": [
        {
          "output_type": "stream",
          "name": "stdout",
          "text": [
            "0 0\n"
          ]
        }
      ]
    },
    {
      "cell_type": "code",
      "source": [
        "print(t1)"
      ],
      "metadata": {
        "colab": {
          "base_uri": "https://localhost:8080/"
        },
        "id": "E8hoLIA7s6Pg",
        "outputId": "446c1412-0e8e-43c2-f6d2-9eae8f912ed1"
      },
      "execution_count": 75,
      "outputs": [
        {
          "output_type": "stream",
          "name": "stdout",
          "text": [
            "<__main__.Triangle object at 0x7f45818d2790>\n"
          ]
        }
      ]
    },
    {
      "cell_type": "code",
      "source": [
        "class PrivateClass:\n",
        "  def __init__(self):\n",
        "    self.__name='love'\n",
        "    self.age=10"
      ],
      "metadata": {
        "id": "UarfrWGpwOhD"
      },
      "execution_count": 76,
      "outputs": []
    },
    {
      "cell_type": "code",
      "source": [
        "p1=PrivateClass()\n",
        "print(p1.age)"
      ],
      "metadata": {
        "colab": {
          "base_uri": "https://localhost:8080/"
        },
        "id": "TiUd_b1fwd9B",
        "outputId": "256f1ce0-df9a-4ae0-e4a1-69dedc1db7bd"
      },
      "execution_count": 77,
      "outputs": [
        {
          "output_type": "stream",
          "name": "stdout",
          "text": [
            "10\n"
          ]
        }
      ]
    },
    {
      "cell_type": "code",
      "source": [
        "# instance method\n",
        "class NameAge:\n",
        "  def __init__(self):\n",
        "    self.name='krishna'\n",
        "    self.age=23\n",
        "  def read(self):\n",
        "    self.name=input('inter our name')\n",
        "    self.age= int(input('inter your age'))\n",
        "  def find_area(self):\n",
        "    return self.name,' ',self.age  "
      ],
      "metadata": {
        "id": "hNfAYUbb4VyV"
      },
      "execution_count": 78,
      "outputs": []
    },
    {
      "cell_type": "code",
      "source": [
        "n1=NameAge()\n",
        "print(n1.name,n1.age)\n",
        "n1.read()\n",
        "print(n1.name,n1.age)"
      ],
      "metadata": {
        "colab": {
          "base_uri": "https://localhost:8080/"
        },
        "id": "5h2eyb1o5QPx",
        "outputId": "d3092d0c-9f0a-4758-addb-af8dfba5e8fc"
      },
      "execution_count": 79,
      "outputs": [
        {
          "output_type": "stream",
          "name": "stdout",
          "text": [
            "krishna 23\n",
            "inter our namek\n",
            "inter your age4\n",
            "k 4\n"
          ]
        }
      ]
    },
    {
      "cell_type": "code",
      "source": [
        "class Matrix:\n",
        "  def __init__(self):\n",
        "    self.matrix = [[],[]]\n",
        "  def read(self):\n",
        "    for i in range(2):\n",
        "      for j in range(2):\n",
        "        element=int(input(\"input element of matrix \"))\n",
        "        self.matrix[i].append(element)\n",
        "\n",
        "  def print_matrix(self):\n",
        "    for i in range(2):\n",
        "      for j in range(2):\n",
        "        print(self.matrix[i][j],end=\" \")\n",
        "      print()"
      ],
      "metadata": {
        "id": "PX7yDPAgQUDT"
      },
      "execution_count": 80,
      "outputs": []
    },
    {
      "cell_type": "code",
      "source": [
        "m1=Matrix()\n",
        "m1.read()\n",
        "m1.print_matrix()"
      ],
      "metadata": {
        "colab": {
          "base_uri": "https://localhost:8080/"
        },
        "id": "YwA66OjeRtq_",
        "outputId": "a5b794b3-8045-4226-e2e6-112feec016cf"
      },
      "execution_count": 82,
      "outputs": [
        {
          "output_type": "stream",
          "name": "stdout",
          "text": [
            "input element of matrix 1\n",
            "input element of matrix 2\n",
            "input element of matrix 3\n",
            "input element of matrix 4\n",
            "1 2 \n",
            "3 4 \n"
          ]
        }
      ]
    },
    {
      "cell_type": "code",
      "source": [
        "class Pri:\n",
        "  def __init__(self):\n",
        "    self.__x=10\n",
        "    self.__y=20\n",
        "  def print_xy(self):\n",
        "     print(self.__x,self.__y)"
      ],
      "metadata": {
        "id": "b2ytnq3CXG2f"
      },
      "execution_count": 83,
      "outputs": []
    },
    {
      "cell_type": "code",
      "source": [
        "p3=Pri()\n",
        "p3.print_xy()"
      ],
      "metadata": {
        "colab": {
          "base_uri": "https://localhost:8080/"
        },
        "id": "qaRapRicZx8F",
        "outputId": "9e797fb4-ee7b-4b48-b2d3-d76be72baa89"
      },
      "execution_count": 84,
      "outputs": [
        {
          "output_type": "stream",
          "name": "stdout",
          "text": [
            "10 20\n"
          ]
        }
      ]
    },
    {
      "cell_type": "code",
      "source": [
        "class Priv:\n",
        "  def __init__(self):\n",
        "    self.__x=20\n",
        "    self.__y=40\n",
        "  def private_access(self):\n",
        "    print(self.__x,self.__y)\n",
        "  def private_upate(self,x,y):\n",
        "    self.__x=x\n",
        "    self.__y=y\n",
        " "
      ],
      "metadata": {
        "id": "bGuSap_ybe5E"
      },
      "execution_count": 85,
      "outputs": []
    },
    {
      "cell_type": "code",
      "source": [
        "pr=Priv()\n",
        "pr.private_access()\n",
        "pr.private_upate(50,60)\n",
        "pr.private_access()"
      ],
      "metadata": {
        "colab": {
          "base_uri": "https://localhost:8080/"
        },
        "id": "STlSlPGQcW-U",
        "outputId": "31080fd1-1d29-4e09-eb87-6956db2b9b40"
      },
      "execution_count": 86,
      "outputs": [
        {
          "output_type": "stream",
          "name": "stdout",
          "text": [
            "20 40\n",
            "50 60\n"
          ]
        }
      ]
    },
    {
      "cell_type": "code",
      "source": [
        "class MyInter:\n",
        "   def __init__(self,value = 0):\n",
        "     self.__value = value\n",
        "   def __str__(self):\n",
        "     return str(self.__value)"
      ],
      "metadata": {
        "id": "nj9k-YkMdHSr"
      },
      "execution_count": 87,
      "outputs": []
    },
    {
      "cell_type": "code",
      "source": [
        "a = MyInter()\n",
        "b = MyInter(20)\n",
        "print(a)\n",
        "print(b)"
      ],
      "metadata": {
        "colab": {
          "base_uri": "https://localhost:8080/"
        },
        "id": "eaxx8089xoHJ",
        "outputId": "5c7257c2-0222-4789-ec33-97328f935d60"
      },
      "execution_count": 88,
      "outputs": [
        {
          "output_type": "stream",
          "name": "stdout",
          "text": [
            "0\n",
            "20\n"
          ]
        }
      ]
    },
    {
      "cell_type": "code",
      "source": [
        "class Marks:\n",
        "  def __init__(self,sub1,sub2,sub3):\n",
        "    self.__sub1=sub1\n",
        "    self.__sub2=sub2\n",
        "    self.__sub3=sub3\n",
        "  def print_marks(self):\n",
        "    print(self.__sub1,self.__sub2,self.__sub3)\n",
        "  def compare_marks(self,stud2):\n",
        "    if self.__sub1 == stud2.__sub1 and self.__sub2 == stud2.__sub2 and self.__sub3 == stud2.__sub3:\n",
        "      return True\n",
        "    else:\n",
        "      return False"
      ],
      "metadata": {
        "id": "9q3hOAFjCFeT"
      },
      "execution_count": 97,
      "outputs": []
    },
    {
      "cell_type": "code",
      "source": [
        "student1=Marks(20,30,40)\n",
        "student2=Marks(40,50,60)\n",
        "student3=Marks(70,80,90)"
      ],
      "metadata": {
        "id": "QnO_H_C9F-Qf"
      },
      "execution_count": 98,
      "outputs": []
    },
    {
      "cell_type": "code",
      "source": [
        "student1.print_marks()\n",
        "student2.print_marks()\n",
        "student3.print_marks()"
      ],
      "metadata": {
        "colab": {
          "base_uri": "https://localhost:8080/"
        },
        "id": "a2bAUxHu1jkF",
        "outputId": "8e42312a-a435-4916-d9e5-7f11659fdc8a"
      },
      "execution_count": 99,
      "outputs": [
        {
          "output_type": "stream",
          "name": "stdout",
          "text": [
            "20 30 40\n",
            "40 50 60\n",
            "70 80 90\n"
          ]
        }
      ]
    },
    {
      "cell_type": "code",
      "source": [
        "b=student1.compare_marks(student3)\n",
        "b"
      ],
      "metadata": {
        "colab": {
          "base_uri": "https://localhost:8080/"
        },
        "id": "WSCclkKqGmuU",
        "outputId": "fdaaedbc-64fe-434e-edd0-6ce57b251367"
      },
      "execution_count": 100,
      "outputs": [
        {
          "output_type": "execute_result",
          "data": {
            "text/plain": [
              "False"
            ]
          },
          "metadata": {},
          "execution_count": 100
        }
      ]
    },
    {
      "cell_type": "code",
      "source": [
        "if b == True:\n",
        "  print('marks are equals')\n",
        "else:\n",
        "  print('marks are not equals')  "
      ],
      "metadata": {
        "colab": {
          "base_uri": "https://localhost:8080/"
        },
        "id": "_iOLrsRd4ld1",
        "outputId": "5d9949c9-a46b-48c5-ec66-2f00bf7296e7"
      },
      "execution_count": 101,
      "outputs": [
        {
          "output_type": "stream",
          "name": "stdout",
          "text": [
            "marks are not equals\n"
          ]
        }
      ]
    },
    {
      "cell_type": "code",
      "source": [
        "# matrix inside matrix object\n",
        "class Matrix:\n",
        "  def __init__(self):\n",
        "    self.__matrix=[[],[]]\n",
        "  def read_matrix(self):\n",
        "    print('input element of matrix')\n",
        "    for i in range(2):\n",
        "      for j in range(2):\n",
        "        e=int(input(\"input element: \"))\n",
        "        self.__matrix[i].append(e)\n",
        "      print()\n",
        "  def print_matrix(self):\n",
        "    print('print matrix element')\n",
        "    for i in range(2):\n",
        "      for j in range(2):\n",
        "        print(self.__matrix[i][j],end=\" \")\n",
        "      print()        \n",
        "  def add_matrix(self,m2):\n",
        "    m3=Matrix()\n",
        "    for i in range(2):\n",
        "      for j in range(2):\n",
        "        m3.__matrix[i].append(self.__matrix[i][j] + m2.__matrix[i][j])\n",
        "    return m3    "
      ],
      "metadata": {
        "id": "Rnugx0uB5QK3"
      },
      "execution_count": 136,
      "outputs": []
    },
    {
      "cell_type": "code",
      "source": [
        "matrix1=Matrix()\n",
        "matrix2=Matrix()\n",
        "matrix1.read_matrix()\n",
        "matrix2.read_matrix()\n",
        "matrix1.print_matrix()\n",
        "matrix2.print_matrix()\n",
        "matrix3=matrix1.add_matrix(matrix2)"
      ],
      "metadata": {
        "colab": {
          "base_uri": "https://localhost:8080/"
        },
        "id": "r2J_nH-c40mU",
        "outputId": "f54357ed-5bde-4b44-ee97-babe6541dcce"
      },
      "execution_count": 142,
      "outputs": [
        {
          "output_type": "stream",
          "name": "stdout",
          "text": [
            "input element of matrix\n",
            "input element: 1\n",
            "input element: 2\n",
            "\n",
            "input element: 3\n",
            "input element: 4\n",
            "\n",
            "input element of matrix\n",
            "input element: 5\n",
            "input element: 6\n",
            "\n",
            "input element: 7\n",
            "input element: 8\n",
            "\n",
            "print matrix element\n",
            "1 2 \n",
            "3 4 \n",
            "print matrix element\n",
            "5 6 \n",
            "7 8 \n"
          ]
        }
      ]
    },
    {
      "cell_type": "code",
      "source": [
        "matrix3.print_matrix()"
      ],
      "metadata": {
        "colab": {
          "base_uri": "https://localhost:8080/"
        },
        "id": "I9mqgp01BkiI",
        "outputId": "9fba80f2-443e-4e27-a8d5-62a0db8374c2"
      },
      "execution_count": 143,
      "outputs": [
        {
          "output_type": "stream",
          "name": "stdout",
          "text": [
            "print matrix element\n",
            "6 8 \n",
            "10 12 \n"
          ]
        }
      ]
    },
    {
      "cell_type": "code",
      "source": [
        "#without matrix inside matrix object\n",
        "class Matrix:\n",
        "  def __init__(self):\n",
        "    self.__matrix=[[],[]]\n",
        "  def read_matrix(self):\n",
        "    print('input element of matrix')\n",
        "    for i in range(2):\n",
        "      for j in range(2):\n",
        "        e=int(input(\"input element: \"))\n",
        "        self.__matrix[i].append(e)\n",
        "      print()\n",
        "  def print_matrix(self):\n",
        "    print('print matrix element')\n",
        "    for i in range(2):\n",
        "      for j in range(2):\n",
        "        print(self.__matrix[i][j],end=\" \")\n",
        "      print()        \n",
        "  def add_matrix(self,m2):\n",
        "    m3=[[],[]]\n",
        "    for i in range(2):\n",
        "      for j in range(2):\n",
        "        m3[i].append(self.__matrix[i][j] + m2.__matrix[i][j])\n",
        "    return m3"
      ],
      "metadata": {
        "id": "qc7rm12iITaN"
      },
      "execution_count": 146,
      "outputs": []
    },
    {
      "cell_type": "code",
      "source": [
        "matrix1=Matrix()\n",
        "matrix2=Matrix()\n",
        "matrix1.read_matrix()\n",
        "matrix2.read_matrix()\n",
        "matrix1.print_matrix()\n",
        "matrix2.print_matrix()\n",
        "matrix3=matrix1.add_matrix(matrix2)"
      ],
      "metadata": {
        "colab": {
          "base_uri": "https://localhost:8080/"
        },
        "id": "DLzaWSDgIdqs",
        "outputId": "0280e4bd-924e-430b-c3fa-2eab25c4c6e1"
      },
      "execution_count": 147,
      "outputs": [
        {
          "output_type": "stream",
          "name": "stdout",
          "text": [
            "input element of matrix\n",
            "input element: 1\n",
            "input element: 2\n",
            "\n",
            "input element: 3\n",
            "input element: 4\n",
            "\n",
            "input element of matrix\n",
            "input element: 5\n",
            "input element: 6\n",
            "\n",
            "input element: 7\n",
            "input element: 8\n",
            "\n",
            "print matrix element\n",
            "1 2 \n",
            "3 4 \n",
            "print matrix element\n",
            "5 6 \n",
            "7 8 \n"
          ]
        }
      ]
    },
    {
      "cell_type": "code",
      "source": [
        "matrix3"
      ],
      "metadata": {
        "colab": {
          "base_uri": "https://localhost:8080/"
        },
        "id": "7Q9TqEBAIz0v",
        "outputId": "7aec666a-e4cb-4c10-e2c9-58202e8131f0"
      },
      "execution_count": 148,
      "outputs": [
        {
          "output_type": "execute_result",
          "data": {
            "text/plain": [
              "[[6, 8], [10, 12]]"
            ]
          },
          "metadata": {},
          "execution_count": 148
        }
      ]
    }
  ]
}